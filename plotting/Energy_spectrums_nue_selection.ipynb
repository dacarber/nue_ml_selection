{
 "cells": [
  {
   "cell_type": "code",
   "execution_count": 4,
   "id": "db715e66",
   "metadata": {},
   "outputs": [],
   "source": [
    "import uproot\n",
    "import matplotlib.pyplot as plt\n",
    "import seaborn\n",
    "import numpy as np\n",
    "import math\n",
    "from scipy.fft import fft, fftfreq\n",
    "import plotly.express as px\n",
    "import plotly.io as pio\n",
    "import plotly.graph_objects as go\n",
    "import numpy as np\n",
    "import pandas as pd\n",
    "from datetime import datetime, timedelta\n",
    "\n",
    "import os\n",
    "from plotly.subplots import make_subplots\n",
    "from plotly import tools\n",
    "import plotly.offline as pyo\n",
    "import sys\n",
    "from tqdm import tqdm"
   ]
  },
  {
   "cell_type": "code",
   "execution_count": 6,
   "id": "d92a771a",
   "metadata": {},
   "outputs": [
    {
     "name": "stdout",
     "output_type": "stream",
     "text": [
      "SELECTED,1,3,0,-1,1.000000,15.000000,7.000000,6.000000,7.000000,479.359890,394.468079,105209.111512,-1.000000,1,1,2,1,290.782806,694.850471,391.902618,346.974579,86027.953125,346.974579,2.185951,2.068959,0.961500,1.082368,0.000691,nan,86027.955271,1536.905309,-nan,-nan,3.141593,3.141593,0.594719,0.000000,0,0,1,\n"
     ]
    }
   ],
   "source": [
    "#Opens log files that contain interaction information\n",
    "with open('/Users/danielcarber/Documents/ICARUS/NuMI_Nue/1e1p/output_nu.log') as file:\n",
    "    lines_nu = [line_nu.rstrip() for line_nu in file]\n",
    "#with open('/Users/danielcarber/Documents/ICARUS/NuMI_Nue/1e1p/output_data.log') as file:\n",
    "#    lines_data = [line_data.rstrip() for line_data in file]\n",
    "print(lines_nu[1])"
   ]
  },
  {
   "cell_type": "code",
   "execution_count": 7,
   "id": "2bace288",
   "metadata": {},
   "outputs": [],
   "source": [
    "#Dictionaries to be filled in interaction information\n",
    "#Signal is true interactions matched with reconstructed intercations\n",
    "df_signal_nu = {'Type': [], 'Run': [], 'Evt': [], 'Subrun':[],'Nu_id':[],'Image_id':[],'Interaction_id':[], 'Category':[],\n",
    "     'Category_topology':[],'category_interaction_mode':[],'leading_electron_ke_true':[], 'leading_electron_ke_reco':[],\n",
    "     'leading_proton_ke_true':[],'leading_proton_ke_reco':[],'leading_electron_pid_true':[], 'leading_electron_pid_reco':[],\n",
    "     'leading_proton_pid_true':[],'leading_proton_pid_reco':[],'visible_energy_true':[],'visible_energy_reco':[],'leading_electron_pt_true':[],\n",
    "     'leading_electron_pt_reco':[],'leading_proton_pt_true':[],'leading_proton_pt_reco':[],'electron_angle_polar_angle_true':[],\n",
    "     'leading_electron_polar_angle_reco':[],'electron_azimuthal_angle_true':[],'electron_azimuthal_angle_reco':[],\n",
    "     'opening_angle_true':[],'opening_angle_reco':[],'interaction_pt_true':[],'interaction_pt_reco':[],\n",
    "     'phiT_true':[],'phiT_reco':[],'alphaT_true':[],'alphaT_reco':[],'electron_softmax':[],'proton_softmax':[],\n",
    "     'all_1e1p_cut':[],'all_1eNp_cut':[],'all_1eX_cut':[],'End':[]}\n",
    "\n",
    "#Selected is reco interactions matched with true interactions\n",
    "df_selected_nu = df_signal_nu\n",
    "list_df_MC = ['Type', 'Run', 'Evt', 'Subrun','Nu_id','Image_id','Interaction_id', 'Category',\n",
    "     'Category_topology','category_interaction_mode','leading_electron_ke_true', 'leading_electron_ke_reco',\n",
    "     'leading_proton_ke_true','leading_proton_ke_reco','leading_electron_pid_true', 'leading_electron_pid_reco',\n",
    "     'leading_proton_pid_true','leading_proton_pid_reco','visible_energy_true','visible_energy_reco','leading_electron_pt_true',\n",
    "     'leading_electron_pt_reco','leading_proton_pt_true','leading_proton_pt_reco','electron_angle_polar_angle_true',\n",
    "     'leading_electron_polar_angle_reco','electron_azimuthal_angle_true','electron_azimuthal_angle_reco',\n",
    "     'opening_angle_true','opening_angle_reco','interaction_pt_true','interaction_pt_reco',\n",
    "     'phiT_true','phiT_reco','alphaT_true','alphaT_reco','electron_softmax','proton_softmax','all_1e1p_cut','all_1eNp_cut','all_1eX_cut',\"End\"]\n",
    "\n",
    "\n",
    "#Fills the dictionaries with data            \n",
    "for line_nu in lines_nu:\n",
    "    line_nu = line_nu.split(\",\")\n",
    "    if line_nu[0] == 'SIGNAL':\n",
    "        for i in range(len(line_nu)):\n",
    "            df_signal_nu[list_df_MC[i]].append(line_nu[i])\n",
    "    elif line_nu[0] == 'SELECTED':\n",
    "        for i in range(len(line_nu)):\n",
    "            df_selected_nu[list_df_MC[i]].append(line_nu[i])"
   ]
  },
  {
   "cell_type": "code",
   "execution_count": 22,
   "id": "9069b751",
   "metadata": {},
   "outputs": [
    {
     "name": "stdout",
     "output_type": "stream",
     "text": [
      "711.629590\n",
      "711.629590\n",
      "1108.988253\n",
      "1108.988253\n",
      "1017.363093\n",
      "1175.163108\n",
      "428.537513\n",
      "438.143979\n",
      "1250.944569\n",
      "1250.944569\n",
      "286.675766\n",
      "724.527936\n",
      "835.750094\n",
      "835.750094\n",
      "280.960377\n",
      "1230.275117\n",
      "1230.275117\n",
      "696.267024\n",
      "2930.538565\n",
      "2930.538565\n",
      "935.974570\n",
      "675.902274\n",
      "675.902274\n",
      "773.693440\n",
      "773.693440\n",
      "1109.709009\n",
      "1109.709009\n",
      "345.147191\n",
      "345.147191\n",
      "3189.723311\n",
      "3189.723311\n",
      "186.821555\n",
      "293.623961\n",
      "216.634169\n",
      "217.179876\n",
      "437.747214\n",
      "437.747214\n",
      "664.893325\n",
      "789.049312\n",
      "789.049312\n",
      "595.254048\n",
      "650.895633\n",
      "650.895633\n",
      "526.733119\n",
      "526.733119\n",
      "219.829936\n",
      "664.164420\n",
      "1740.860680\n",
      "1474.028093\n",
      "1474.028093\n",
      "740.903958\n",
      "860.368808\n",
      "860.368808\n",
      "455.351589\n",
      "530.979154\n",
      "2332.237052\n",
      "2186.069819\n",
      "2186.069819\n",
      "767.324528\n",
      "1713.494049\n",
      "1713.494049\n",
      "187.959442\n",
      "1023.997817\n",
      "1023.997817\n",
      "629.860433\n",
      "1170.225631\n",
      "2543.326032\n",
      "2543.326032\n",
      "999.320766\n",
      "1219.202420\n",
      "553.665796\n",
      "1582.036712\n",
      "1582.036712\n",
      "542.448384\n",
      "542.448384\n",
      "291.420966\n",
      "291.420966\n",
      "292.945777\n",
      "517.115070\n",
      "1388.885560\n",
      "1388.885560\n",
      "361.516349\n",
      "361.516349\n",
      "1651.991862\n",
      "1651.991862\n",
      "732.123093\n",
      "428.951902\n",
      "1903.608022\n",
      "1903.608022\n",
      "416.711095\n",
      "416.711095\n",
      "2022.007472\n",
      "513.564152\n",
      "840.358947\n",
      "1080.700705\n",
      "808.185055\n",
      "808.185055\n",
      "933.698852\n",
      "496.885469\n",
      "406.695506\n",
      "1678.459120\n",
      "248.933025\n",
      "713.197485\n",
      "913.325436\n",
      "913.325436\n",
      "295.489535\n",
      "396.646483\n",
      "712.790140\n",
      "712.790140\n",
      "177.233565\n",
      "177.233565\n",
      "1139.271149\n",
      "1981.617352\n",
      "890.515756\n",
      "935.342256\n",
      "1621.572062\n",
      "644.909548\n",
      "725.189669\n",
      "217.644474\n",
      "614.774869\n",
      "557.054432\n",
      "1089.072012\n",
      "1089.072012\n",
      "1089.336102\n",
      "1117.065577\n",
      "1117.065577\n",
      "1798.808561\n",
      "1320.933016\n",
      "1320.933016\n",
      "1330.193734\n",
      "1330.193734\n",
      "190.925624\n",
      "1441.983037\n",
      "1441.983037\n",
      "1005.176321\n",
      "482.092857\n",
      "482.092857\n",
      "2655.043447\n",
      "849.038953\n",
      "608.109795\n",
      "2658.609699\n",
      "2658.609699\n",
      "336.910937\n",
      "1037.961813\n",
      "1037.961813\n",
      "1387.419531\n",
      "1050.864929\n",
      "1050.864929\n",
      "333.612191\n",
      "369.345650\n",
      "1633.208205\n",
      "1633.208205\n",
      "652.849998\n",
      "929.711437\n",
      "1983.429340\n",
      "1983.429340\n",
      "300.514143\n",
      "952.564764\n",
      "1549.274208\n",
      "2230.785219\n",
      "2230.785219\n",
      "577.062389\n",
      "2551.677724\n",
      "986.375576\n",
      "986.375576\n",
      "317.715408\n",
      "800.057804\n",
      "800.057804\n",
      "1052.298350\n",
      "1052.298350\n",
      "758.442728\n",
      "758.442728\n",
      "1259.933441\n",
      "1641.038710\n",
      "1641.038710\n",
      "983.001029\n",
      "983.001029\n",
      "258.050767\n",
      "506.062305\n",
      "701.258149\n",
      "1427.946804\n",
      "1427.946804\n",
      "1265.135374\n",
      "1356.699860\n",
      "1356.699860\n",
      "343.441204\n",
      "473.077318\n",
      "1580.845907\n",
      "1580.845907\n",
      "569.309726\n",
      "569.309726\n",
      "1521.546216\n",
      "265.081796\n",
      "1106.339248\n",
      "1106.339248\n",
      "1804.969847\n",
      "1804.969847\n",
      "257.654700\n",
      "612.369256\n",
      "1253.265783\n",
      "721.228445\n",
      "477.706212\n",
      "450.546934\n",
      "971.915687\n",
      "669.146524\n",
      "307.418576\n",
      "2031.545617\n",
      "2148.818565\n",
      "2148.818565\n",
      "716.349793\n",
      "649.264075\n",
      "428.785465\n",
      "391.838881\n",
      "537.022216\n",
      "410.670873\n",
      "4439.520374\n",
      "4439.520374\n",
      "2814.630098\n",
      "359.224283\n",
      "1650.364769\n",
      "1650.364769\n",
      "1068.471626\n",
      "1068.471626\n",
      "599.146498\n",
      "1529.816435\n",
      "895.843777\n",
      "676.476734\n",
      "676.476734\n",
      "1256.283116\n",
      "1256.283116\n",
      "753.958280\n",
      "490.424785\n",
      "1394.601187\n",
      "1394.601187\n",
      "269.682600\n",
      "490.364527\n",
      "490.364527\n",
      "1166.657524\n",
      "1166.657524\n",
      "706.929192\n",
      "282.004241\n",
      "249.106139\n",
      "1025.875029\n",
      "1025.875029\n",
      "812.883505\n",
      "812.883505\n",
      "726.795357\n",
      "726.795357\n",
      "312.571630\n",
      "3176.507123\n",
      "2329.388249\n",
      "2329.388249\n",
      "754.284032\n",
      "754.284032\n",
      "1283.745340\n",
      "608.713206\n",
      "295.867609\n",
      "369.537025\n",
      "369.537025\n",
      "430.554724\n",
      "884.406326\n",
      "399.362557\n",
      "577.295164\n",
      "577.295164\n",
      "721.505751\n",
      "354.373828\n",
      "623.164346\n",
      "633.558710\n",
      "1636.429686\n",
      "1636.429686\n",
      "264.652758\n",
      "1243.841364\n",
      "349.451619\n",
      "2903.386739\n",
      "840.609648\n",
      "840.609648\n",
      "2545.999424\n",
      "1062.016881\n",
      "645.414756\n",
      "645.414756\n",
      "902.503861\n"
     ]
    }
   ],
   "source": [
    "signal,sel_1e, sel_1e1pi1p, sel_nue_other, sel_NC, sel_cosmic,sel_numu = [],[],[],[],[],[],[]\n",
    "total_events =0\n",
    "for index, category in enumerate(df_selected_nu['Category_topology']):\n",
    "    if df_selected_nu['all_1e1p_cut'][index] == '1' or df_selected_nu['all_1eNp_cut'][index] == '1':\n",
    "        print(df_selected_nu['visible_energy_reco'][index])\n",
    "        total_events +=1\n",
    "        if (category[0] == '0' or category[0] == '2'):\n",
    "            signal.append(float(df_selected_nu['visible_energy_reco'][index]))\n",
    "        elif category[0] == '1':\n",
    "            sel_1e.append(float(df_selected_nu['visible_energy_reco'][index]))\n",
    "        elif category[0] == '3':\n",
    "            sel_1e1pi1p.append(float(df_selected_nu['visible_energy_reco'][index]))\n",
    "        elif category[0] == '4':\n",
    "            sel_nue_other.append(float(df_selected_nu['visible_energy_reco'][index]))\n",
    "        elif category[0] == '5':\n",
    "            sel_NC.append(float(df_selected_nu['visible_energy_reco'][index]))\n",
    "        elif category[0] == '6':\n",
    "            sel_cosmic.append(float(df_selected_nu['visible_energy_reco'][index]))\n",
    "        elif category[0] == '7':\n",
    "            sel_numu.append(float(df_selected_nu['visible_energy_reco'][index]))\n",
    "        "
   ]
  },
  {
   "cell_type": "code",
   "execution_count": 23,
   "id": "a15af294",
   "metadata": {},
   "outputs": [],
   "source": [
    "def hist_1d(metric, bounds,bins, xaxis_name, Plot_title, selection):\n",
    "    fig = make_subplots(rows=1,cols=1,subplot_titles = (f\"<span style='font-size: 42px;'>{Plot_title}\",))\n",
    "    \n",
    "    \n",
    "    print('Purity: ', len(signal)/total_events)\n",
    "    print('Number of signal: ',len(signal),' Number of selected:', total_events)\n",
    "    cosmic_size = len(sel_cosmic)\n",
    "    numu_size = len(sel_numu)\n",
    "    NC_size = len(sel_NC)\n",
    "    signal_size = len(signal)\n",
    "    nue_size = len(sel_nue_other)\n",
    "    \n",
    "    \n",
    "    fig.add_trace(go.Histogram(x=sel_cosmic,marker_color = 'yellow',xbins=dict(start = bins[0],end = bins[1],size=bins[2]),\n",
    "                               name = f'Cosmics ({cosmic_size}, {100*cosmic_size/total_events:.2f}%)'),row = 1, col =1)\n",
    "    fig.add_trace(go.Histogram(x=sel_numu,marker_color = 'blue',xbins=dict(start = bins[0],end = bins[1],size=bins[2]),\n",
    "                              name = f'\\u03BD<sub>\\u03BC</sub> ({numu_size}, {100*numu_size/total_events:.2f}%)'),row = 1, col =1)\n",
    "    fig.add_trace(go.Histogram(x=sel_NC,marker_color = 'black',xbins=dict(start = bins[0],end = bins[1],size=bins[2]),\n",
    "                              name = f'NC ({NC_size}, {100*NC_size/total_events:.2f}%)'),row = 1, col =1)\n",
    "    \n",
    "    if selection != 'Nue':\n",
    "        #nue_size =  len(df[metric][mask_other_nue][reco_signal][mask])\n",
    "        fig.add_trace(go.Histogram(x=sel_nue_other,marker_color = 'orange',xbins=dict(start = bins[0],end = bins[1],size=bins[2]),\n",
    "                                  name = f'Other \\u03BD<sub>e</sub> ({nue_size}, {100*nue_size/total_events:.2f}%)'),row = 1, col =1)\n",
    "        fig.add_trace(go.Histogram(x=signal,marker_color = 'darkgreen',xbins=dict(start = bins[0],end = bins[1],size=bins[2]),\n",
    "                              name = f'{selection} ({signal_size}, {100*signal_size/total_events:.2f}%)'),row = 1, col =1)\n",
    "    else:\n",
    "        fig.add_trace(go.Histogram(x=signal,marker_color = 'darkgreen',xbins=dict(start = bins[0],end = bins[1],size=bins[2]),\n",
    "                              name = f'\\u03BD<sub>e</sub> ({signal_size}, {100*signal_size/total_events:.2f}%)'),row = 1, col =1)\n",
    "    \n",
    "    \n",
    "    fig.update_xaxes(title_text = xaxis_name,row = 1, col = 1)\n",
    "    fig.update_yaxes(title_text = \"Entries\",row = 1, col = 1,)\n",
    "    fig.update_layout(font = dict(size=26),legend=dict(\n",
    "        yanchor=\"top\",\n",
    "        y=0.99,\n",
    "        xanchor=\"left\",\n",
    "        x=0.43,\n",
    "        bgcolor=\"LightSteelBlue\",\n",
    "            bordercolor=\"Black\",\n",
    "    ))\n",
    "    fig.update_annotations(font_size=46)\n",
    "    fig.update_layout(barmode='stack')\n",
    "    fig.update_layout(xaxis = dict(range = bounds))\n",
    "    fig.update_layout(height = 900, width = 900,showlegend = True)\n",
    "    fig.show()\n"
   ]
  },
  {
   "cell_type": "code",
   "execution_count": 24,
   "id": "0d3e422b",
   "metadata": {},
   "outputs": [
    {
     "name": "stdout",
     "output_type": "stream",
     "text": [
      "Purity:  0.4626334519572954\n",
      "Number of signal:  130  Number of selected: 281\n"
     ]
    },
    {
     "data": {
      "application/vnd.plotly.v1+json": {
       "config": {
        "plotlyServerURL": "https://plot.ly"
       },
       "data": [
        {
         "marker": {
          "color": "yellow"
         },
         "name": "Cosmics (38, 13.52%)",
         "type": "histogram",
         "x": [
          696.267024,
          186.821555,
          293.623961,
          595.254048,
          740.903958,
          455.351589,
          767.324528,
          629.860433,
          1170.225631,
          1219.20242,
          517.11507,
          513.564152,
          406.695506,
          1678.45912,
          396.646483,
          1621.572062,
          644.909548,
          217.644474,
          614.774869,
          1798.808561,
          849.038953,
          336.910937,
          333.612191,
          369.34565,
          929.711437,
          952.564764,
          577.062389,
          473.077318,
          612.369256,
          477.706212,
          716.349793,
          428.785465,
          537.022216,
          599.146498,
          1529.816435,
          753.95828,
          608.713206,
          721.505751
         ],
         "xaxis": "x",
         "xbins": {
          "end": 5000,
          "size": 250,
          "start": 0
         },
         "yaxis": "y"
        },
        {
         "marker": {
          "color": "blue"
         },
         "name": "ν<sub>μ</sub> (17, 6.05%)",
         "type": "histogram",
         "x": [
          1017.363093,
          438.143979,
          286.675766,
          216.634169,
          664.16442,
          1740.86068,
          187.959442,
          292.945777,
          933.698852,
          190.925624,
          652.849998,
          300.514143,
          506.062305,
          2814.630098,
          359.224283,
          354.373828,
          633.55871
         ],
         "xaxis": "x",
         "xbins": {
          "end": 5000,
          "size": 250,
          "start": 0
         },
         "yaxis": "y"
        },
        {
         "marker": {
          "color": "black"
         },
         "name": "NC (38, 13.52%)",
         "type": "histogram",
         "x": [
          724.527936,
          280.960377,
          664.893325,
          530.979154,
          2332.237052,
          428.951902,
          840.358947,
          248.933025,
          713.197485,
          295.489535,
          1981.617352,
          1005.176321,
          2655.043447,
          1259.933441,
          258.050767,
          701.258149,
          1265.135374,
          343.441204,
          265.081796,
          257.6547,
          1253.265783,
          721.228445,
          450.546934,
          669.146524,
          2031.545617,
          649.264075,
          410.670873,
          269.6826,
          706.929192,
          249.106139,
          3176.507123,
          295.867609,
          430.554724,
          264.652758,
          349.451619,
          2903.386739,
          2545.999424,
          902.503861
         ],
         "xaxis": "x",
         "xbins": {
          "end": 5000,
          "size": 250,
          "start": 0
         },
         "yaxis": "y"
        },
        {
         "marker": {
          "color": "orange"
         },
         "name": "Other ν<sub>e</sub> (35, 12.46%)",
         "type": "histogram",
         "x": [
          1230.275117,
          1230.275117,
          219.829936,
          999.320766,
          553.665796,
          732.123093,
          2022.007472,
          1080.700705,
          496.885469,
          1139.271149,
          935.342256,
          725.189669,
          557.054432,
          1089.336102,
          1330.193734,
          1330.193734,
          608.109795,
          1387.419531,
          2551.677724,
          317.715408,
          1521.546216,
          971.915687,
          307.418576,
          391.838881,
          895.843777,
          490.424785,
          282.004241,
          312.57163,
          1283.74534,
          884.406326,
          399.362557,
          623.164346,
          840.609648,
          840.609648,
          1062.016881
         ],
         "xaxis": "x",
         "xbins": {
          "end": 5000,
          "size": 250,
          "start": 0
         },
         "yaxis": "y"
        },
        {
         "marker": {
          "color": "darkgreen"
         },
         "name": "1eNp (130, 46.26%)",
         "type": "histogram",
         "x": [
          1108.988253,
          1108.988253,
          1175.163108,
          428.537513,
          1250.944569,
          1250.944569,
          835.750094,
          835.750094,
          2930.538565,
          2930.538565,
          675.902274,
          675.902274,
          773.69344,
          773.69344,
          1109.709009,
          1109.709009,
          3189.723311,
          3189.723311,
          217.179876,
          789.049312,
          789.049312,
          650.895633,
          650.895633,
          526.733119,
          526.733119,
          1474.028093,
          1474.028093,
          2186.069819,
          2186.069819,
          1713.494049,
          1713.494049,
          1023.997817,
          1023.997817,
          2543.326032,
          2543.326032,
          1582.036712,
          1582.036712,
          542.448384,
          542.448384,
          291.420966,
          291.420966,
          361.516349,
          361.516349,
          1651.991862,
          1651.991862,
          1903.608022,
          1903.608022,
          416.711095,
          416.711095,
          808.185055,
          808.185055,
          913.325436,
          913.325436,
          712.79014,
          712.79014,
          890.515756,
          1089.072012,
          1089.072012,
          1117.065577,
          1117.065577,
          1320.933016,
          1320.933016,
          1441.983037,
          1441.983037,
          2658.609699,
          2658.609699,
          1037.961813,
          1037.961813,
          1050.864929,
          1050.864929,
          1983.42934,
          1983.42934,
          1549.274208,
          986.375576,
          986.375576,
          800.057804,
          800.057804,
          1052.29835,
          1052.29835,
          758.442728,
          758.442728,
          1641.03871,
          1641.03871,
          983.001029,
          983.001029,
          1427.946804,
          1427.946804,
          1356.69986,
          1356.69986,
          1580.845907,
          1580.845907,
          569.309726,
          569.309726,
          1106.339248,
          1106.339248,
          1804.969847,
          1804.969847,
          2148.818565,
          2148.818565,
          1650.364769,
          1650.364769,
          1068.471626,
          1068.471626,
          676.476734,
          676.476734,
          1256.283116,
          1256.283116,
          1394.601187,
          1394.601187,
          490.364527,
          490.364527,
          1166.657524,
          1166.657524,
          1025.875029,
          1025.875029,
          812.883505,
          812.883505,
          726.795357,
          726.795357,
          754.284032,
          754.284032,
          369.537025,
          369.537025,
          577.295164,
          577.295164,
          1636.429686,
          1636.429686,
          1243.841364,
          645.414756,
          645.414756
         ],
         "xaxis": "x",
         "xbins": {
          "end": 5000,
          "size": 250,
          "start": 0
         },
         "yaxis": "y"
        }
       ],
       "layout": {
        "annotations": [
         {
          "font": {
           "size": 46
          },
          "showarrow": false,
          "text": "<span style='font-size: 42px;'>Selected 1eNp Events",
          "x": 0.5,
          "xanchor": "center",
          "xref": "paper",
          "y": 1,
          "yanchor": "bottom",
          "yref": "paper"
         }
        ],
        "barmode": "stack",
        "font": {
         "size": 26
        },
        "height": 900,
        "legend": {
         "bgcolor": "LightSteelBlue",
         "bordercolor": "Black",
         "x": 0.43,
         "xanchor": "left",
         "y": 0.99,
         "yanchor": "top"
        },
        "showlegend": true,
        "template": {
         "data": {
          "bar": [
           {
            "error_x": {
             "color": "#2a3f5f"
            },
            "error_y": {
             "color": "#2a3f5f"
            },
            "marker": {
             "line": {
              "color": "#E5ECF6",
              "width": 0.5
             },
             "pattern": {
              "fillmode": "overlay",
              "size": 10,
              "solidity": 0.2
             }
            },
            "type": "bar"
           }
          ],
          "barpolar": [
           {
            "marker": {
             "line": {
              "color": "#E5ECF6",
              "width": 0.5
             },
             "pattern": {
              "fillmode": "overlay",
              "size": 10,
              "solidity": 0.2
             }
            },
            "type": "barpolar"
           }
          ],
          "carpet": [
           {
            "aaxis": {
             "endlinecolor": "#2a3f5f",
             "gridcolor": "white",
             "linecolor": "white",
             "minorgridcolor": "white",
             "startlinecolor": "#2a3f5f"
            },
            "baxis": {
             "endlinecolor": "#2a3f5f",
             "gridcolor": "white",
             "linecolor": "white",
             "minorgridcolor": "white",
             "startlinecolor": "#2a3f5f"
            },
            "type": "carpet"
           }
          ],
          "choropleth": [
           {
            "colorbar": {
             "outlinewidth": 0,
             "ticks": ""
            },
            "type": "choropleth"
           }
          ],
          "contour": [
           {
            "colorbar": {
             "outlinewidth": 0,
             "ticks": ""
            },
            "colorscale": [
             [
              0,
              "#0d0887"
             ],
             [
              0.1111111111111111,
              "#46039f"
             ],
             [
              0.2222222222222222,
              "#7201a8"
             ],
             [
              0.3333333333333333,
              "#9c179e"
             ],
             [
              0.4444444444444444,
              "#bd3786"
             ],
             [
              0.5555555555555556,
              "#d8576b"
             ],
             [
              0.6666666666666666,
              "#ed7953"
             ],
             [
              0.7777777777777778,
              "#fb9f3a"
             ],
             [
              0.8888888888888888,
              "#fdca26"
             ],
             [
              1,
              "#f0f921"
             ]
            ],
            "type": "contour"
           }
          ],
          "contourcarpet": [
           {
            "colorbar": {
             "outlinewidth": 0,
             "ticks": ""
            },
            "type": "contourcarpet"
           }
          ],
          "heatmap": [
           {
            "colorbar": {
             "outlinewidth": 0,
             "ticks": ""
            },
            "colorscale": [
             [
              0,
              "#0d0887"
             ],
             [
              0.1111111111111111,
              "#46039f"
             ],
             [
              0.2222222222222222,
              "#7201a8"
             ],
             [
              0.3333333333333333,
              "#9c179e"
             ],
             [
              0.4444444444444444,
              "#bd3786"
             ],
             [
              0.5555555555555556,
              "#d8576b"
             ],
             [
              0.6666666666666666,
              "#ed7953"
             ],
             [
              0.7777777777777778,
              "#fb9f3a"
             ],
             [
              0.8888888888888888,
              "#fdca26"
             ],
             [
              1,
              "#f0f921"
             ]
            ],
            "type": "heatmap"
           }
          ],
          "heatmapgl": [
           {
            "colorbar": {
             "outlinewidth": 0,
             "ticks": ""
            },
            "colorscale": [
             [
              0,
              "#0d0887"
             ],
             [
              0.1111111111111111,
              "#46039f"
             ],
             [
              0.2222222222222222,
              "#7201a8"
             ],
             [
              0.3333333333333333,
              "#9c179e"
             ],
             [
              0.4444444444444444,
              "#bd3786"
             ],
             [
              0.5555555555555556,
              "#d8576b"
             ],
             [
              0.6666666666666666,
              "#ed7953"
             ],
             [
              0.7777777777777778,
              "#fb9f3a"
             ],
             [
              0.8888888888888888,
              "#fdca26"
             ],
             [
              1,
              "#f0f921"
             ]
            ],
            "type": "heatmapgl"
           }
          ],
          "histogram": [
           {
            "marker": {
             "pattern": {
              "fillmode": "overlay",
              "size": 10,
              "solidity": 0.2
             }
            },
            "type": "histogram"
           }
          ],
          "histogram2d": [
           {
            "colorbar": {
             "outlinewidth": 0,
             "ticks": ""
            },
            "colorscale": [
             [
              0,
              "#0d0887"
             ],
             [
              0.1111111111111111,
              "#46039f"
             ],
             [
              0.2222222222222222,
              "#7201a8"
             ],
             [
              0.3333333333333333,
              "#9c179e"
             ],
             [
              0.4444444444444444,
              "#bd3786"
             ],
             [
              0.5555555555555556,
              "#d8576b"
             ],
             [
              0.6666666666666666,
              "#ed7953"
             ],
             [
              0.7777777777777778,
              "#fb9f3a"
             ],
             [
              0.8888888888888888,
              "#fdca26"
             ],
             [
              1,
              "#f0f921"
             ]
            ],
            "type": "histogram2d"
           }
          ],
          "histogram2dcontour": [
           {
            "colorbar": {
             "outlinewidth": 0,
             "ticks": ""
            },
            "colorscale": [
             [
              0,
              "#0d0887"
             ],
             [
              0.1111111111111111,
              "#46039f"
             ],
             [
              0.2222222222222222,
              "#7201a8"
             ],
             [
              0.3333333333333333,
              "#9c179e"
             ],
             [
              0.4444444444444444,
              "#bd3786"
             ],
             [
              0.5555555555555556,
              "#d8576b"
             ],
             [
              0.6666666666666666,
              "#ed7953"
             ],
             [
              0.7777777777777778,
              "#fb9f3a"
             ],
             [
              0.8888888888888888,
              "#fdca26"
             ],
             [
              1,
              "#f0f921"
             ]
            ],
            "type": "histogram2dcontour"
           }
          ],
          "mesh3d": [
           {
            "colorbar": {
             "outlinewidth": 0,
             "ticks": ""
            },
            "type": "mesh3d"
           }
          ],
          "parcoords": [
           {
            "line": {
             "colorbar": {
              "outlinewidth": 0,
              "ticks": ""
             }
            },
            "type": "parcoords"
           }
          ],
          "pie": [
           {
            "automargin": true,
            "type": "pie"
           }
          ],
          "scatter": [
           {
            "fillpattern": {
             "fillmode": "overlay",
             "size": 10,
             "solidity": 0.2
            },
            "type": "scatter"
           }
          ],
          "scatter3d": [
           {
            "line": {
             "colorbar": {
              "outlinewidth": 0,
              "ticks": ""
             }
            },
            "marker": {
             "colorbar": {
              "outlinewidth": 0,
              "ticks": ""
             }
            },
            "type": "scatter3d"
           }
          ],
          "scattercarpet": [
           {
            "marker": {
             "colorbar": {
              "outlinewidth": 0,
              "ticks": ""
             }
            },
            "type": "scattercarpet"
           }
          ],
          "scattergeo": [
           {
            "marker": {
             "colorbar": {
              "outlinewidth": 0,
              "ticks": ""
             }
            },
            "type": "scattergeo"
           }
          ],
          "scattergl": [
           {
            "marker": {
             "colorbar": {
              "outlinewidth": 0,
              "ticks": ""
             }
            },
            "type": "scattergl"
           }
          ],
          "scattermapbox": [
           {
            "marker": {
             "colorbar": {
              "outlinewidth": 0,
              "ticks": ""
             }
            },
            "type": "scattermapbox"
           }
          ],
          "scatterpolar": [
           {
            "marker": {
             "colorbar": {
              "outlinewidth": 0,
              "ticks": ""
             }
            },
            "type": "scatterpolar"
           }
          ],
          "scatterpolargl": [
           {
            "marker": {
             "colorbar": {
              "outlinewidth": 0,
              "ticks": ""
             }
            },
            "type": "scatterpolargl"
           }
          ],
          "scatterternary": [
           {
            "marker": {
             "colorbar": {
              "outlinewidth": 0,
              "ticks": ""
             }
            },
            "type": "scatterternary"
           }
          ],
          "surface": [
           {
            "colorbar": {
             "outlinewidth": 0,
             "ticks": ""
            },
            "colorscale": [
             [
              0,
              "#0d0887"
             ],
             [
              0.1111111111111111,
              "#46039f"
             ],
             [
              0.2222222222222222,
              "#7201a8"
             ],
             [
              0.3333333333333333,
              "#9c179e"
             ],
             [
              0.4444444444444444,
              "#bd3786"
             ],
             [
              0.5555555555555556,
              "#d8576b"
             ],
             [
              0.6666666666666666,
              "#ed7953"
             ],
             [
              0.7777777777777778,
              "#fb9f3a"
             ],
             [
              0.8888888888888888,
              "#fdca26"
             ],
             [
              1,
              "#f0f921"
             ]
            ],
            "type": "surface"
           }
          ],
          "table": [
           {
            "cells": {
             "fill": {
              "color": "#EBF0F8"
             },
             "line": {
              "color": "white"
             }
            },
            "header": {
             "fill": {
              "color": "#C8D4E3"
             },
             "line": {
              "color": "white"
             }
            },
            "type": "table"
           }
          ]
         },
         "layout": {
          "annotationdefaults": {
           "arrowcolor": "#2a3f5f",
           "arrowhead": 0,
           "arrowwidth": 1
          },
          "autotypenumbers": "strict",
          "coloraxis": {
           "colorbar": {
            "outlinewidth": 0,
            "ticks": ""
           }
          },
          "colorscale": {
           "diverging": [
            [
             0,
             "#8e0152"
            ],
            [
             0.1,
             "#c51b7d"
            ],
            [
             0.2,
             "#de77ae"
            ],
            [
             0.3,
             "#f1b6da"
            ],
            [
             0.4,
             "#fde0ef"
            ],
            [
             0.5,
             "#f7f7f7"
            ],
            [
             0.6,
             "#e6f5d0"
            ],
            [
             0.7,
             "#b8e186"
            ],
            [
             0.8,
             "#7fbc41"
            ],
            [
             0.9,
             "#4d9221"
            ],
            [
             1,
             "#276419"
            ]
           ],
           "sequential": [
            [
             0,
             "#0d0887"
            ],
            [
             0.1111111111111111,
             "#46039f"
            ],
            [
             0.2222222222222222,
             "#7201a8"
            ],
            [
             0.3333333333333333,
             "#9c179e"
            ],
            [
             0.4444444444444444,
             "#bd3786"
            ],
            [
             0.5555555555555556,
             "#d8576b"
            ],
            [
             0.6666666666666666,
             "#ed7953"
            ],
            [
             0.7777777777777778,
             "#fb9f3a"
            ],
            [
             0.8888888888888888,
             "#fdca26"
            ],
            [
             1,
             "#f0f921"
            ]
           ],
           "sequentialminus": [
            [
             0,
             "#0d0887"
            ],
            [
             0.1111111111111111,
             "#46039f"
            ],
            [
             0.2222222222222222,
             "#7201a8"
            ],
            [
             0.3333333333333333,
             "#9c179e"
            ],
            [
             0.4444444444444444,
             "#bd3786"
            ],
            [
             0.5555555555555556,
             "#d8576b"
            ],
            [
             0.6666666666666666,
             "#ed7953"
            ],
            [
             0.7777777777777778,
             "#fb9f3a"
            ],
            [
             0.8888888888888888,
             "#fdca26"
            ],
            [
             1,
             "#f0f921"
            ]
           ]
          },
          "colorway": [
           "#636efa",
           "#EF553B",
           "#00cc96",
           "#ab63fa",
           "#FFA15A",
           "#19d3f3",
           "#FF6692",
           "#B6E880",
           "#FF97FF",
           "#FECB52"
          ],
          "font": {
           "color": "#2a3f5f"
          },
          "geo": {
           "bgcolor": "white",
           "lakecolor": "white",
           "landcolor": "#E5ECF6",
           "showlakes": true,
           "showland": true,
           "subunitcolor": "white"
          },
          "hoverlabel": {
           "align": "left"
          },
          "hovermode": "closest",
          "mapbox": {
           "style": "light"
          },
          "paper_bgcolor": "white",
          "plot_bgcolor": "#E5ECF6",
          "polar": {
           "angularaxis": {
            "gridcolor": "white",
            "linecolor": "white",
            "ticks": ""
           },
           "bgcolor": "#E5ECF6",
           "radialaxis": {
            "gridcolor": "white",
            "linecolor": "white",
            "ticks": ""
           }
          },
          "scene": {
           "xaxis": {
            "backgroundcolor": "#E5ECF6",
            "gridcolor": "white",
            "gridwidth": 2,
            "linecolor": "white",
            "showbackground": true,
            "ticks": "",
            "zerolinecolor": "white"
           },
           "yaxis": {
            "backgroundcolor": "#E5ECF6",
            "gridcolor": "white",
            "gridwidth": 2,
            "linecolor": "white",
            "showbackground": true,
            "ticks": "",
            "zerolinecolor": "white"
           },
           "zaxis": {
            "backgroundcolor": "#E5ECF6",
            "gridcolor": "white",
            "gridwidth": 2,
            "linecolor": "white",
            "showbackground": true,
            "ticks": "",
            "zerolinecolor": "white"
           }
          },
          "shapedefaults": {
           "line": {
            "color": "#2a3f5f"
           }
          },
          "ternary": {
           "aaxis": {
            "gridcolor": "white",
            "linecolor": "white",
            "ticks": ""
           },
           "baxis": {
            "gridcolor": "white",
            "linecolor": "white",
            "ticks": ""
           },
           "bgcolor": "#E5ECF6",
           "caxis": {
            "gridcolor": "white",
            "linecolor": "white",
            "ticks": ""
           }
          },
          "title": {
           "x": 0.05
          },
          "xaxis": {
           "automargin": true,
           "gridcolor": "white",
           "linecolor": "white",
           "ticks": "",
           "title": {
            "standoff": 15
           },
           "zerolinecolor": "white",
           "zerolinewidth": 2
          },
          "yaxis": {
           "automargin": true,
           "gridcolor": "white",
           "linecolor": "white",
           "ticks": "",
           "title": {
            "standoff": 15
           },
           "zerolinecolor": "white",
           "zerolinewidth": 2
          }
         }
        },
        "width": 900,
        "xaxis": {
         "anchor": "y",
         "domain": [
          0,
          1
         ],
         "range": [
          0,
          5000
         ],
         "title": {
          "text": "Reco Neutrino Energy [MeV]"
         }
        },
        "yaxis": {
         "anchor": "x",
         "domain": [
          0,
          1
         ],
         "title": {
          "text": "Entries"
         }
        }
       }
      },
      "text/html": [
       "<div>                            <div id=\"55a7d1d0-631f-4abd-98f3-0f95a712357b\" class=\"plotly-graph-div\" style=\"height:900px; width:900px;\"></div>            <script type=\"text/javascript\">                require([\"plotly\"], function(Plotly) {                    window.PLOTLYENV=window.PLOTLYENV || {};                                    if (document.getElementById(\"55a7d1d0-631f-4abd-98f3-0f95a712357b\")) {                    Plotly.newPlot(                        \"55a7d1d0-631f-4abd-98f3-0f95a712357b\",                        [{\"marker\":{\"color\":\"yellow\"},\"name\":\"Cosmics (38, 13.52%)\",\"x\":[696.267024,186.821555,293.623961,595.254048,740.903958,455.351589,767.324528,629.860433,1170.225631,1219.20242,517.11507,513.564152,406.695506,1678.45912,396.646483,1621.572062,644.909548,217.644474,614.774869,1798.808561,849.038953,336.910937,333.612191,369.34565,929.711437,952.564764,577.062389,473.077318,612.369256,477.706212,716.349793,428.785465,537.022216,599.146498,1529.816435,753.95828,608.713206,721.505751],\"xbins\":{\"end\":5000,\"size\":250,\"start\":0},\"type\":\"histogram\",\"xaxis\":\"x\",\"yaxis\":\"y\"},{\"marker\":{\"color\":\"blue\"},\"name\":\"\\u03bd\\u003csub\\u003e\\u03bc\\u003c\\u002fsub\\u003e (17, 6.05%)\",\"x\":[1017.363093,438.143979,286.675766,216.634169,664.16442,1740.86068,187.959442,292.945777,933.698852,190.925624,652.849998,300.514143,506.062305,2814.630098,359.224283,354.373828,633.55871],\"xbins\":{\"end\":5000,\"size\":250,\"start\":0},\"type\":\"histogram\",\"xaxis\":\"x\",\"yaxis\":\"y\"},{\"marker\":{\"color\":\"black\"},\"name\":\"NC (38, 13.52%)\",\"x\":[724.527936,280.960377,664.893325,530.979154,2332.237052,428.951902,840.358947,248.933025,713.197485,295.489535,1981.617352,1005.176321,2655.043447,1259.933441,258.050767,701.258149,1265.135374,343.441204,265.081796,257.6547,1253.265783,721.228445,450.546934,669.146524,2031.545617,649.264075,410.670873,269.6826,706.929192,249.106139,3176.507123,295.867609,430.554724,264.652758,349.451619,2903.386739,2545.999424,902.503861],\"xbins\":{\"end\":5000,\"size\":250,\"start\":0},\"type\":\"histogram\",\"xaxis\":\"x\",\"yaxis\":\"y\"},{\"marker\":{\"color\":\"orange\"},\"name\":\"Other \\u03bd\\u003csub\\u003ee\\u003c\\u002fsub\\u003e (35, 12.46%)\",\"x\":[1230.275117,1230.275117,219.829936,999.320766,553.665796,732.123093,2022.007472,1080.700705,496.885469,1139.271149,935.342256,725.189669,557.054432,1089.336102,1330.193734,1330.193734,608.109795,1387.419531,2551.677724,317.715408,1521.546216,971.915687,307.418576,391.838881,895.843777,490.424785,282.004241,312.57163,1283.74534,884.406326,399.362557,623.164346,840.609648,840.609648,1062.016881],\"xbins\":{\"end\":5000,\"size\":250,\"start\":0},\"type\":\"histogram\",\"xaxis\":\"x\",\"yaxis\":\"y\"},{\"marker\":{\"color\":\"darkgreen\"},\"name\":\"1eNp (130, 46.26%)\",\"x\":[1108.988253,1108.988253,1175.163108,428.537513,1250.944569,1250.944569,835.750094,835.750094,2930.538565,2930.538565,675.902274,675.902274,773.69344,773.69344,1109.709009,1109.709009,3189.723311,3189.723311,217.179876,789.049312,789.049312,650.895633,650.895633,526.733119,526.733119,1474.028093,1474.028093,2186.069819,2186.069819,1713.494049,1713.494049,1023.997817,1023.997817,2543.326032,2543.326032,1582.036712,1582.036712,542.448384,542.448384,291.420966,291.420966,361.516349,361.516349,1651.991862,1651.991862,1903.608022,1903.608022,416.711095,416.711095,808.185055,808.185055,913.325436,913.325436,712.79014,712.79014,890.515756,1089.072012,1089.072012,1117.065577,1117.065577,1320.933016,1320.933016,1441.983037,1441.983037,2658.609699,2658.609699,1037.961813,1037.961813,1050.864929,1050.864929,1983.42934,1983.42934,1549.274208,986.375576,986.375576,800.057804,800.057804,1052.29835,1052.29835,758.442728,758.442728,1641.03871,1641.03871,983.001029,983.001029,1427.946804,1427.946804,1356.69986,1356.69986,1580.845907,1580.845907,569.309726,569.309726,1106.339248,1106.339248,1804.969847,1804.969847,2148.818565,2148.818565,1650.364769,1650.364769,1068.471626,1068.471626,676.476734,676.476734,1256.283116,1256.283116,1394.601187,1394.601187,490.364527,490.364527,1166.657524,1166.657524,1025.875029,1025.875029,812.883505,812.883505,726.795357,726.795357,754.284032,754.284032,369.537025,369.537025,577.295164,577.295164,1636.429686,1636.429686,1243.841364,645.414756,645.414756],\"xbins\":{\"end\":5000,\"size\":250,\"start\":0},\"type\":\"histogram\",\"xaxis\":\"x\",\"yaxis\":\"y\"}],                        {\"template\":{\"data\":{\"histogram2dcontour\":[{\"type\":\"histogram2dcontour\",\"colorbar\":{\"outlinewidth\":0,\"ticks\":\"\"},\"colorscale\":[[0.0,\"#0d0887\"],[0.1111111111111111,\"#46039f\"],[0.2222222222222222,\"#7201a8\"],[0.3333333333333333,\"#9c179e\"],[0.4444444444444444,\"#bd3786\"],[0.5555555555555556,\"#d8576b\"],[0.6666666666666666,\"#ed7953\"],[0.7777777777777778,\"#fb9f3a\"],[0.8888888888888888,\"#fdca26\"],[1.0,\"#f0f921\"]]}],\"choropleth\":[{\"type\":\"choropleth\",\"colorbar\":{\"outlinewidth\":0,\"ticks\":\"\"}}],\"histogram2d\":[{\"type\":\"histogram2d\",\"colorbar\":{\"outlinewidth\":0,\"ticks\":\"\"},\"colorscale\":[[0.0,\"#0d0887\"],[0.1111111111111111,\"#46039f\"],[0.2222222222222222,\"#7201a8\"],[0.3333333333333333,\"#9c179e\"],[0.4444444444444444,\"#bd3786\"],[0.5555555555555556,\"#d8576b\"],[0.6666666666666666,\"#ed7953\"],[0.7777777777777778,\"#fb9f3a\"],[0.8888888888888888,\"#fdca26\"],[1.0,\"#f0f921\"]]}],\"heatmap\":[{\"type\":\"heatmap\",\"colorbar\":{\"outlinewidth\":0,\"ticks\":\"\"},\"colorscale\":[[0.0,\"#0d0887\"],[0.1111111111111111,\"#46039f\"],[0.2222222222222222,\"#7201a8\"],[0.3333333333333333,\"#9c179e\"],[0.4444444444444444,\"#bd3786\"],[0.5555555555555556,\"#d8576b\"],[0.6666666666666666,\"#ed7953\"],[0.7777777777777778,\"#fb9f3a\"],[0.8888888888888888,\"#fdca26\"],[1.0,\"#f0f921\"]]}],\"heatmapgl\":[{\"type\":\"heatmapgl\",\"colorbar\":{\"outlinewidth\":0,\"ticks\":\"\"},\"colorscale\":[[0.0,\"#0d0887\"],[0.1111111111111111,\"#46039f\"],[0.2222222222222222,\"#7201a8\"],[0.3333333333333333,\"#9c179e\"],[0.4444444444444444,\"#bd3786\"],[0.5555555555555556,\"#d8576b\"],[0.6666666666666666,\"#ed7953\"],[0.7777777777777778,\"#fb9f3a\"],[0.8888888888888888,\"#fdca26\"],[1.0,\"#f0f921\"]]}],\"contourcarpet\":[{\"type\":\"contourcarpet\",\"colorbar\":{\"outlinewidth\":0,\"ticks\":\"\"}}],\"contour\":[{\"type\":\"contour\",\"colorbar\":{\"outlinewidth\":0,\"ticks\":\"\"},\"colorscale\":[[0.0,\"#0d0887\"],[0.1111111111111111,\"#46039f\"],[0.2222222222222222,\"#7201a8\"],[0.3333333333333333,\"#9c179e\"],[0.4444444444444444,\"#bd3786\"],[0.5555555555555556,\"#d8576b\"],[0.6666666666666666,\"#ed7953\"],[0.7777777777777778,\"#fb9f3a\"],[0.8888888888888888,\"#fdca26\"],[1.0,\"#f0f921\"]]}],\"surface\":[{\"type\":\"surface\",\"colorbar\":{\"outlinewidth\":0,\"ticks\":\"\"},\"colorscale\":[[0.0,\"#0d0887\"],[0.1111111111111111,\"#46039f\"],[0.2222222222222222,\"#7201a8\"],[0.3333333333333333,\"#9c179e\"],[0.4444444444444444,\"#bd3786\"],[0.5555555555555556,\"#d8576b\"],[0.6666666666666666,\"#ed7953\"],[0.7777777777777778,\"#fb9f3a\"],[0.8888888888888888,\"#fdca26\"],[1.0,\"#f0f921\"]]}],\"mesh3d\":[{\"type\":\"mesh3d\",\"colorbar\":{\"outlinewidth\":0,\"ticks\":\"\"}}],\"scatter\":[{\"fillpattern\":{\"fillmode\":\"overlay\",\"size\":10,\"solidity\":0.2},\"type\":\"scatter\"}],\"parcoords\":[{\"type\":\"parcoords\",\"line\":{\"colorbar\":{\"outlinewidth\":0,\"ticks\":\"\"}}}],\"scatterpolargl\":[{\"type\":\"scatterpolargl\",\"marker\":{\"colorbar\":{\"outlinewidth\":0,\"ticks\":\"\"}}}],\"bar\":[{\"error_x\":{\"color\":\"#2a3f5f\"},\"error_y\":{\"color\":\"#2a3f5f\"},\"marker\":{\"line\":{\"color\":\"#E5ECF6\",\"width\":0.5},\"pattern\":{\"fillmode\":\"overlay\",\"size\":10,\"solidity\":0.2}},\"type\":\"bar\"}],\"scattergeo\":[{\"type\":\"scattergeo\",\"marker\":{\"colorbar\":{\"outlinewidth\":0,\"ticks\":\"\"}}}],\"scatterpolar\":[{\"type\":\"scatterpolar\",\"marker\":{\"colorbar\":{\"outlinewidth\":0,\"ticks\":\"\"}}}],\"histogram\":[{\"marker\":{\"pattern\":{\"fillmode\":\"overlay\",\"size\":10,\"solidity\":0.2}},\"type\":\"histogram\"}],\"scattergl\":[{\"type\":\"scattergl\",\"marker\":{\"colorbar\":{\"outlinewidth\":0,\"ticks\":\"\"}}}],\"scatter3d\":[{\"type\":\"scatter3d\",\"line\":{\"colorbar\":{\"outlinewidth\":0,\"ticks\":\"\"}},\"marker\":{\"colorbar\":{\"outlinewidth\":0,\"ticks\":\"\"}}}],\"scattermapbox\":[{\"type\":\"scattermapbox\",\"marker\":{\"colorbar\":{\"outlinewidth\":0,\"ticks\":\"\"}}}],\"scatterternary\":[{\"type\":\"scatterternary\",\"marker\":{\"colorbar\":{\"outlinewidth\":0,\"ticks\":\"\"}}}],\"scattercarpet\":[{\"type\":\"scattercarpet\",\"marker\":{\"colorbar\":{\"outlinewidth\":0,\"ticks\":\"\"}}}],\"carpet\":[{\"aaxis\":{\"endlinecolor\":\"#2a3f5f\",\"gridcolor\":\"white\",\"linecolor\":\"white\",\"minorgridcolor\":\"white\",\"startlinecolor\":\"#2a3f5f\"},\"baxis\":{\"endlinecolor\":\"#2a3f5f\",\"gridcolor\":\"white\",\"linecolor\":\"white\",\"minorgridcolor\":\"white\",\"startlinecolor\":\"#2a3f5f\"},\"type\":\"carpet\"}],\"table\":[{\"cells\":{\"fill\":{\"color\":\"#EBF0F8\"},\"line\":{\"color\":\"white\"}},\"header\":{\"fill\":{\"color\":\"#C8D4E3\"},\"line\":{\"color\":\"white\"}},\"type\":\"table\"}],\"barpolar\":[{\"marker\":{\"line\":{\"color\":\"#E5ECF6\",\"width\":0.5},\"pattern\":{\"fillmode\":\"overlay\",\"size\":10,\"solidity\":0.2}},\"type\":\"barpolar\"}],\"pie\":[{\"automargin\":true,\"type\":\"pie\"}]},\"layout\":{\"autotypenumbers\":\"strict\",\"colorway\":[\"#636efa\",\"#EF553B\",\"#00cc96\",\"#ab63fa\",\"#FFA15A\",\"#19d3f3\",\"#FF6692\",\"#B6E880\",\"#FF97FF\",\"#FECB52\"],\"font\":{\"color\":\"#2a3f5f\"},\"hovermode\":\"closest\",\"hoverlabel\":{\"align\":\"left\"},\"paper_bgcolor\":\"white\",\"plot_bgcolor\":\"#E5ECF6\",\"polar\":{\"bgcolor\":\"#E5ECF6\",\"angularaxis\":{\"gridcolor\":\"white\",\"linecolor\":\"white\",\"ticks\":\"\"},\"radialaxis\":{\"gridcolor\":\"white\",\"linecolor\":\"white\",\"ticks\":\"\"}},\"ternary\":{\"bgcolor\":\"#E5ECF6\",\"aaxis\":{\"gridcolor\":\"white\",\"linecolor\":\"white\",\"ticks\":\"\"},\"baxis\":{\"gridcolor\":\"white\",\"linecolor\":\"white\",\"ticks\":\"\"},\"caxis\":{\"gridcolor\":\"white\",\"linecolor\":\"white\",\"ticks\":\"\"}},\"coloraxis\":{\"colorbar\":{\"outlinewidth\":0,\"ticks\":\"\"}},\"colorscale\":{\"sequential\":[[0.0,\"#0d0887\"],[0.1111111111111111,\"#46039f\"],[0.2222222222222222,\"#7201a8\"],[0.3333333333333333,\"#9c179e\"],[0.4444444444444444,\"#bd3786\"],[0.5555555555555556,\"#d8576b\"],[0.6666666666666666,\"#ed7953\"],[0.7777777777777778,\"#fb9f3a\"],[0.8888888888888888,\"#fdca26\"],[1.0,\"#f0f921\"]],\"sequentialminus\":[[0.0,\"#0d0887\"],[0.1111111111111111,\"#46039f\"],[0.2222222222222222,\"#7201a8\"],[0.3333333333333333,\"#9c179e\"],[0.4444444444444444,\"#bd3786\"],[0.5555555555555556,\"#d8576b\"],[0.6666666666666666,\"#ed7953\"],[0.7777777777777778,\"#fb9f3a\"],[0.8888888888888888,\"#fdca26\"],[1.0,\"#f0f921\"]],\"diverging\":[[0,\"#8e0152\"],[0.1,\"#c51b7d\"],[0.2,\"#de77ae\"],[0.3,\"#f1b6da\"],[0.4,\"#fde0ef\"],[0.5,\"#f7f7f7\"],[0.6,\"#e6f5d0\"],[0.7,\"#b8e186\"],[0.8,\"#7fbc41\"],[0.9,\"#4d9221\"],[1,\"#276419\"]]},\"xaxis\":{\"gridcolor\":\"white\",\"linecolor\":\"white\",\"ticks\":\"\",\"title\":{\"standoff\":15},\"zerolinecolor\":\"white\",\"automargin\":true,\"zerolinewidth\":2},\"yaxis\":{\"gridcolor\":\"white\",\"linecolor\":\"white\",\"ticks\":\"\",\"title\":{\"standoff\":15},\"zerolinecolor\":\"white\",\"automargin\":true,\"zerolinewidth\":2},\"scene\":{\"xaxis\":{\"backgroundcolor\":\"#E5ECF6\",\"gridcolor\":\"white\",\"linecolor\":\"white\",\"showbackground\":true,\"ticks\":\"\",\"zerolinecolor\":\"white\",\"gridwidth\":2},\"yaxis\":{\"backgroundcolor\":\"#E5ECF6\",\"gridcolor\":\"white\",\"linecolor\":\"white\",\"showbackground\":true,\"ticks\":\"\",\"zerolinecolor\":\"white\",\"gridwidth\":2},\"zaxis\":{\"backgroundcolor\":\"#E5ECF6\",\"gridcolor\":\"white\",\"linecolor\":\"white\",\"showbackground\":true,\"ticks\":\"\",\"zerolinecolor\":\"white\",\"gridwidth\":2}},\"shapedefaults\":{\"line\":{\"color\":\"#2a3f5f\"}},\"annotationdefaults\":{\"arrowcolor\":\"#2a3f5f\",\"arrowhead\":0,\"arrowwidth\":1},\"geo\":{\"bgcolor\":\"white\",\"landcolor\":\"#E5ECF6\",\"subunitcolor\":\"white\",\"showland\":true,\"showlakes\":true,\"lakecolor\":\"white\"},\"title\":{\"x\":0.05},\"mapbox\":{\"style\":\"light\"}}},\"xaxis\":{\"anchor\":\"y\",\"domain\":[0.0,1.0],\"title\":{\"text\":\"Reco Neutrino Energy [MeV]\"},\"range\":[0,5000]},\"yaxis\":{\"anchor\":\"x\",\"domain\":[0.0,1.0],\"title\":{\"text\":\"Entries\"}},\"annotations\":[{\"font\":{\"size\":46},\"showarrow\":false,\"text\":\"\\u003cspan style='font-size: 42px;'\\u003eSelected 1eNp Events\",\"x\":0.5,\"xanchor\":\"center\",\"xref\":\"paper\",\"y\":1.0,\"yanchor\":\"bottom\",\"yref\":\"paper\"}],\"font\":{\"size\":26},\"legend\":{\"yanchor\":\"top\",\"y\":0.99,\"xanchor\":\"left\",\"x\":0.43,\"bgcolor\":\"LightSteelBlue\",\"bordercolor\":\"Black\"},\"barmode\":\"stack\",\"height\":900,\"width\":900,\"showlegend\":true},                        {\"responsive\": true}                    ).then(function(){\n",
       "                            \n",
       "var gd = document.getElementById('55a7d1d0-631f-4abd-98f3-0f95a712357b');\n",
       "var x = new MutationObserver(function (mutations, observer) {{\n",
       "        var display = window.getComputedStyle(gd).display;\n",
       "        if (!display || display === 'none') {{\n",
       "            console.log([gd, 'removed!']);\n",
       "            Plotly.purge(gd);\n",
       "            observer.disconnect();\n",
       "        }}\n",
       "}});\n",
       "\n",
       "// Listen for the removal of the full notebook cells\n",
       "var notebookContainer = gd.closest('#notebook-container');\n",
       "if (notebookContainer) {{\n",
       "    x.observe(notebookContainer, {childList: true});\n",
       "}}\n",
       "\n",
       "// Listen for the clearing of the current output cell\n",
       "var outputEl = gd.closest('.output');\n",
       "if (outputEl) {{\n",
       "    x.observe(outputEl, {childList: true});\n",
       "}}\n",
       "\n",
       "                        })                };                });            </script>        </div>"
      ]
     },
     "metadata": {},
     "output_type": "display_data"
    }
   ],
   "source": [
    "#hist_1d('reco_nu_energy',[0,5000],[0,5000,250],'Reco Neutrino Energy [MeV]','Selected 1e1p Events','1e1p')\n",
    "hist_1d('reco_nu_energy',[0,5000],[0,5000,250],'Reco Neutrino Energy [MeV]','Selected 1eNp Events','1eNp')\n",
    "#hist_1d('reco_nu_energy',[0,5000],[0,5000,100],'Reco Neutrino Energy [MeV]','Selected CC \\u03BD<sub>e</sub> Inclusive Events','Nue')"
   ]
  },
  {
   "cell_type": "code",
   "execution_count": null,
   "id": "3f8ac32b",
   "metadata": {},
   "outputs": [],
   "source": []
  }
 ],
 "metadata": {
  "kernelspec": {
   "display_name": "Python 3 (ipykernel)",
   "language": "python",
   "name": "python3"
  },
  "language_info": {
   "codemirror_mode": {
    "name": "ipython",
    "version": 3
   },
   "file_extension": ".py",
   "mimetype": "text/x-python",
   "name": "python",
   "nbconvert_exporter": "python",
   "pygments_lexer": "ipython3",
   "version": "3.10.8"
  }
 },
 "nbformat": 4,
 "nbformat_minor": 5
}
